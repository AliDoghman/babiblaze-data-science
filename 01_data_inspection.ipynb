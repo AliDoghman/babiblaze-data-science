{
 "cells": [
  {
   "cell_type": "code",
   "execution_count": null,
   "id": "a5095453-3b82-4f28-a998-9d289f28fc88",
   "metadata": {},
   "outputs": [],
   "source": [
    "import pandas as pd\n",
    "import matplotlib.pyplot as plt\n",
    "import seaborn as sns\n",
    "import plotly.express as px\n",
    "# Load dataset\n",
    "df = pd.read_csv(\"data_customer.csv\")\n",
    "# original dataset\n",
    "df.info()\n",
    "df.head()"
   ]
  },
  {
   "cell_type": "code",
   "execution_count": 3,
   "id": "4e1a9701-4230-4acb-8833-c4f02d502835",
   "metadata": {},
   "outputs": [
    {
     "name": "stdout",
     "output_type": "stream",
     "text": [
      "Dataset shape: (101, 12)\n",
      "\n"
     ]
    },
    {
     "data": {
      "text/plain": [
       "TransactionID         101\n",
       "Timestamp             100\n",
       "CustomerID             50\n",
       "Duration (Minutes)     45\n",
       "Price (IDR)            15\n",
       "DayOfWeek               7\n",
       "BarberName              6\n",
       "Service                 6\n",
       "BranchLocation          4\n",
       "Gender                  2\n",
       "BarberTier              2\n",
       "Rating (1-5)            2\n",
       "dtype: int64"
      ]
     },
     "metadata": {},
     "output_type": "display_data"
    },
    {
     "name": "stdout",
     "output_type": "stream",
     "text": [
      "\n",
      "✅ Potential unique columns (no duplicates at all):\n"
     ]
    },
    {
     "data": {
      "text/plain": [
       "TransactionID    101\n",
       "dtype: int64"
      ]
     },
     "metadata": {},
     "output_type": "display_data"
    },
    {
     "name": "stdout",
     "output_type": "stream",
     "text": [
      "\n",
      "⚠️ Nearly unique columns (minor duplicates):\n"
     ]
    },
    {
     "data": {
      "text/plain": [
       "TransactionID    101\n",
       "Timestamp        100\n",
       "dtype: int64"
      ]
     },
     "metadata": {},
     "output_type": "display_data"
    }
   ],
   "source": [
    "import pandas as pd\n",
    "\n",
    "# Load your dataset\n",
    "df = pd.read_csv(\"data_customer.csv\")\n",
    "print(\"Dataset shape:\", df.shape)\n",
    "print()\n",
    "\n",
    "# Count unique values for each column\n",
    "unique_counts = df.nunique().sort_values(ascending=False)\n",
    "display(unique_counts)\n",
    "\n",
    "# Find potential unique identifiers\n",
    "total_rows = len(df)\n",
    "unique_cols = unique_counts[unique_counts == total_rows]\n",
    "print(\"\\n✅ Potential unique columns (no duplicates at all):\")\n",
    "display(unique_cols)\n",
    "\n",
    "# Columns that are *almost* unique (within 1–2 duplicates)\n",
    "almost_unique = unique_counts[(unique_counts / total_rows) > 0.98]\n",
    "print(\"\\n⚠️ Nearly unique columns (minor duplicates):\")\n",
    "display(almost_unique)\n"
   ]
  },
  {
   "cell_type": "code",
   "execution_count": null,
   "id": "c9bda167-ec75-468c-97d6-ce5ccd457b1e",
   "metadata": {},
   "outputs": [],
   "source": []
  },
  {
   "cell_type": "code",
   "execution_count": null,
   "id": "9c5b53c2-569f-4b45-80ee-bcf40d41ffcf",
   "metadata": {},
   "outputs": [],
   "source": []
  }
 ],
 "metadata": {
  "kernelspec": {
   "display_name": "Python 3 (ipykernel)",
   "language": "python",
   "name": "python3"
  },
  "language_info": {
   "codemirror_mode": {
    "name": "ipython",
    "version": 3
   },
   "file_extension": ".py",
   "mimetype": "text/x-python",
   "name": "python",
   "nbconvert_exporter": "python",
   "pygments_lexer": "ipython3",
   "version": "3.11.14"
  }
 },
 "nbformat": 4,
 "nbformat_minor": 5
}
