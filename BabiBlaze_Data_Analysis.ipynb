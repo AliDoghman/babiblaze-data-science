{
 "cells": [
  {
   "cell_type": "code",
   "execution_count": 5,
   "id": "16ed6179-0338-4039-89cc-9c514fffc34e",
   "metadata": {},
   "outputs": [
    {
     "name": "stdout",
     "output_type": "stream",
     "text": [
      "original dataset\n",
      "    TransactionID            Timestamp DayOfWeek   BranchLocation CustomerID  \\\n",
      "0          TRX001  2025-01-01 10:45:11      Rabu  Jakarta Selatan    CUST188   \n",
      "1          TRX002  2025-01-01 11:20:45      Rabu    Jakarta Pusat    CUST112   \n",
      "2          TRX003  2025-01-01 12:55:01      Rabu    Jakarta Utara    CUST134   \n",
      "3          TRX004  2025-01-01 14:18:22      Rabu    Jakarta Timur    CUST176   \n",
      "4          TRX005  2025-01-01 15:30:10      Rabu  Jakarta Selatan    CUST195   \n",
      "..            ...                  ...       ...              ...        ...   \n",
      "96         TRX996  2025-08-09 17:55:25     Sabtu    Jakarta Pusat    CUST123   \n",
      "97         TRX997  2025-08-09 19:10:11     Sabtu    Jakarta Utara    CUST154   \n",
      "98         TRX998  2025-08-09 20:25:57     Sabtu    Jakarta Timur    CUST172   \n",
      "99         TRX999  2025-08-10 10:30:43    Minggu  Jakarta Selatan    CUST198   \n",
      "100       TRX1000  2025-08-10 11:45:29    Minggu    Jakarta Pusat    CUST102   \n",
      "\n",
      "     Gender               Service  Price (IDR) BarberName BarberTier  \\\n",
      "0      Pria    Potong Rambut Pria      60000.0       Budi     Senior   \n",
      "1      Pria         Cukur Jenggot      35000.0        Eko     Junior   \n",
      "2      Pria    Potong Rambut Pria      55000.0    Charlie     Senior   \n",
      "3      Pria         Paket Ganteng      75000.0       Joko     Junior   \n",
      "4    Wanita  Potong Rambut Wanita      95000.0       Rina     Senior   \n",
      "..      ...                   ...          ...        ...        ...   \n",
      "96     Pria         Paket Ganteng      80000.0        Eko     Junior   \n",
      "97     Pria    Potong Rambut Pria      55000.0    Charlie     Senior   \n",
      "98     Pria         Cukur Jenggot      35000.0       Joko     Junior   \n",
      "99     Pria    Potong Rambut Pria      60000.0       Agus     Senior   \n",
      "100  Wanita  Potong Rambut Wanita      90000.0       Rina     Senior   \n",
      "\n",
      "     Rating (1-5)  Duration (Minutes)  \n",
      "0             5.0                28.0  \n",
      "1             4.0                21.0  \n",
      "2             5.0                33.0  \n",
      "3             4.0                53.0  \n",
      "4             5.0                59.0  \n",
      "..            ...                 ...  \n",
      "96            5.0                49.0  \n",
      "97            4.0                28.0  \n",
      "98            5.0                18.0  \n",
      "99            4.0                29.0  \n",
      "100           5.0                57.0  \n",
      "\n",
      "[101 rows x 12 columns]\n",
      "<class 'pandas.core.frame.DataFrame'>\n",
      "RangeIndex: 101 entries, 0 to 100\n",
      "Data columns (total 12 columns):\n",
      " #   Column              Non-Null Count  Dtype  \n",
      "---  ------              --------------  -----  \n",
      " 0   TransactionID       101 non-null    object \n",
      " 1   Timestamp           100 non-null    object \n",
      " 2   DayOfWeek           100 non-null    object \n",
      " 3   BranchLocation      100 non-null    object \n",
      " 4   CustomerID          100 non-null    object \n",
      " 5   Gender              100 non-null    object \n",
      " 6   Service             100 non-null    object \n",
      " 7   Price (IDR)         100 non-null    float64\n",
      " 8   BarberName          100 non-null    object \n",
      " 9   BarberTier          100 non-null    object \n",
      " 10  Rating (1-5)        100 non-null    float64\n",
      " 11  Duration (Minutes)  100 non-null    float64\n",
      "dtypes: float64(3), object(9)\n",
      "memory usage: 9.6+ KB\n"
     ]
    }
   ],
   "source": [
    "import pandas as pd\n",
    "import matplotlib.pyplot as plt\n",
    "import seaborn as sns\n",
    "import plotly.express as px\n",
    "# Load dataset\n",
    "data = pd.read_csv(\"data_customer.csv\")\n",
    "# original dataset\n",
    "data.info()\n",
    "#data.head()"
   ]
  },
  {
   "cell_type": "code",
   "execution_count": null,
   "id": "b6f3ccfd-2687-4d99-b7f0-52fc73e74d99",
   "metadata": {},
   "outputs": [],
   "source": []
  }
 ],
 "metadata": {
  "kernelspec": {
   "display_name": "Python 3 (ipykernel)",
   "language": "python",
   "name": "python3"
  },
  "language_info": {
   "codemirror_mode": {
    "name": "ipython",
    "version": 3
   },
   "file_extension": ".py",
   "mimetype": "text/x-python",
   "name": "python",
   "nbconvert_exporter": "python",
   "pygments_lexer": "ipython3",
   "version": "3.11.14"
  }
 },
 "nbformat": 4,
 "nbformat_minor": 5
}
