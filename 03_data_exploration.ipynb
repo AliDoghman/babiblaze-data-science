{
 "cells": [
  {
   "cell_type": "code",
   "execution_count": 1,
   "id": "18ce818d-52af-4f1e-aaa8-35183d837249",
   "metadata": {},
   "outputs": [
    {
     "name": "stdout",
     "output_type": "stream",
     "text": [
      "Shape: (100, 12)\n"
     ]
    },
    {
     "data": {
      "text/html": [
       "<div>\n",
       "<style scoped>\n",
       "    .dataframe tbody tr th:only-of-type {\n",
       "        vertical-align: middle;\n",
       "    }\n",
       "\n",
       "    .dataframe tbody tr th {\n",
       "        vertical-align: top;\n",
       "    }\n",
       "\n",
       "    .dataframe thead th {\n",
       "        text-align: right;\n",
       "    }\n",
       "</style>\n",
       "<table border=\"1\" class=\"dataframe\">\n",
       "  <thead>\n",
       "    <tr style=\"text-align: right;\">\n",
       "      <th></th>\n",
       "      <th>TransactionID</th>\n",
       "      <th>Timestamp</th>\n",
       "      <th>BranchLocation</th>\n",
       "      <th>CustomerID</th>\n",
       "      <th>BarberName</th>\n",
       "      <th>BarberTier</th>\n",
       "      <th>Rating (1-5)</th>\n",
       "      <th>Duration (Minutes)</th>\n",
       "      <th>PriceUSD</th>\n",
       "      <th>Service</th>\n",
       "      <th>Gender</th>\n",
       "      <th>DayOfWeek</th>\n",
       "    </tr>\n",
       "  </thead>\n",
       "  <tbody>\n",
       "    <tr>\n",
       "      <th>0</th>\n",
       "      <td>TRX001</td>\n",
       "      <td>2025-01-01 10:45:11</td>\n",
       "      <td>Jakarta Selatan</td>\n",
       "      <td>CUST188</td>\n",
       "      <td>Budi</td>\n",
       "      <td>Senior</td>\n",
       "      <td>5.0</td>\n",
       "      <td>28.0</td>\n",
       "      <td>3.87</td>\n",
       "      <td>Potong Rambut Pria</td>\n",
       "      <td>Male</td>\n",
       "      <td>Wednesday</td>\n",
       "    </tr>\n",
       "    <tr>\n",
       "      <th>1</th>\n",
       "      <td>TRX002</td>\n",
       "      <td>2025-01-01 11:20:45</td>\n",
       "      <td>Jakarta Pusat</td>\n",
       "      <td>CUST112</td>\n",
       "      <td>Eko</td>\n",
       "      <td>Junior</td>\n",
       "      <td>4.0</td>\n",
       "      <td>21.0</td>\n",
       "      <td>2.26</td>\n",
       "      <td>Cukur Jenggot</td>\n",
       "      <td>Male</td>\n",
       "      <td>Wednesday</td>\n",
       "    </tr>\n",
       "    <tr>\n",
       "      <th>2</th>\n",
       "      <td>TRX003</td>\n",
       "      <td>2025-01-01 12:55:01</td>\n",
       "      <td>Jakarta Utara</td>\n",
       "      <td>CUST134</td>\n",
       "      <td>Charlie</td>\n",
       "      <td>Senior</td>\n",
       "      <td>5.0</td>\n",
       "      <td>33.0</td>\n",
       "      <td>3.55</td>\n",
       "      <td>Potong Rambut Pria</td>\n",
       "      <td>Male</td>\n",
       "      <td>Wednesday</td>\n",
       "    </tr>\n",
       "    <tr>\n",
       "      <th>3</th>\n",
       "      <td>TRX004</td>\n",
       "      <td>2025-01-01 14:18:22</td>\n",
       "      <td>Jakarta Timur</td>\n",
       "      <td>CUST176</td>\n",
       "      <td>Joko</td>\n",
       "      <td>Junior</td>\n",
       "      <td>4.0</td>\n",
       "      <td>53.0</td>\n",
       "      <td>4.84</td>\n",
       "      <td>Paket Ganteng</td>\n",
       "      <td>Male</td>\n",
       "      <td>Wednesday</td>\n",
       "    </tr>\n",
       "    <tr>\n",
       "      <th>4</th>\n",
       "      <td>TRX005</td>\n",
       "      <td>2025-01-01 15:30:10</td>\n",
       "      <td>Jakarta Selatan</td>\n",
       "      <td>CUST195</td>\n",
       "      <td>Rina</td>\n",
       "      <td>Senior</td>\n",
       "      <td>5.0</td>\n",
       "      <td>59.0</td>\n",
       "      <td>6.13</td>\n",
       "      <td>Potong Rambut Wanita</td>\n",
       "      <td>Female</td>\n",
       "      <td>Wednesday</td>\n",
       "    </tr>\n",
       "  </tbody>\n",
       "</table>\n",
       "</div>"
      ],
      "text/plain": [
       "  TransactionID            Timestamp   BranchLocation CustomerID BarberName  \\\n",
       "0        TRX001  2025-01-01 10:45:11  Jakarta Selatan    CUST188       Budi   \n",
       "1        TRX002  2025-01-01 11:20:45    Jakarta Pusat    CUST112        Eko   \n",
       "2        TRX003  2025-01-01 12:55:01    Jakarta Utara    CUST134    Charlie   \n",
       "3        TRX004  2025-01-01 14:18:22    Jakarta Timur    CUST176       Joko   \n",
       "4        TRX005  2025-01-01 15:30:10  Jakarta Selatan    CUST195       Rina   \n",
       "\n",
       "  BarberTier  Rating (1-5)  Duration (Minutes)  PriceUSD  \\\n",
       "0     Senior           5.0                28.0      3.87   \n",
       "1     Junior           4.0                21.0      2.26   \n",
       "2     Senior           5.0                33.0      3.55   \n",
       "3     Junior           4.0                53.0      4.84   \n",
       "4     Senior           5.0                59.0      6.13   \n",
       "\n",
       "                Service  Gender  DayOfWeek  \n",
       "0    Potong Rambut Pria    Male  Wednesday  \n",
       "1         Cukur Jenggot    Male  Wednesday  \n",
       "2    Potong Rambut Pria    Male  Wednesday  \n",
       "3         Paket Ganteng    Male  Wednesday  \n",
       "4  Potong Rambut Wanita  Female  Wednesday  "
      ]
     },
     "execution_count": 1,
     "metadata": {},
     "output_type": "execute_result"
    }
   ],
   "source": [
    "import pandas as pd\n",
    "import matplotlib.pyplot as plt\n",
    "import seaborn as sns\n",
    "import plotly.express as px\n",
    "#EDA study will mainly focus on revenue\n",
    "df = pd.read_csv(\"data_customer_final_cleaned.csv\")\n",
    "print(\"Shape:\", df.shape)\n",
    "df.head()\n"
   ]
  },
  {
   "cell_type": "code",
   "execution_count": 7,
   "id": "6667de9c-5058-44f3-b2e3-fcfe1c813954",
   "metadata": {},
   "outputs": [
    {
     "name": "stdout",
     "output_type": "stream",
     "text": [
      " Total Revenue: $491.35\n",
      " Average Revenue per Transaction: $4.91\n",
      " Median Revenue per Transaction: $3.71\n",
      " Max Transaction: $16.13\n",
      " Min Transaction: $2.26\n",
      " Most frequent (mode) transaction value: $2.26\n",
      " Service: most common = 'Potong Rambut Pria'  (29 occurrences)\n",
      " Gender: most common = 'Male'  (88 occurrences)\n",
      " DayOfWeek: most common = 'Friday'  (18 occurrences)\n",
      " BarberName: most common = 'Joko'  (24 occurrences)\n",
      " BranchLocation: most common = 'Jakarta Pusat'  (26 occurrences)\n"
     ]
    }
   ],
   "source": [
    "#revenue\n",
    "total_revenue = df[\"PriceUSD\"].sum()\n",
    "average_revenue = df[\"PriceUSD\"].mean()\n",
    "median_revenue = df[\"PriceUSD\"].median()\n",
    "max_revenue = df[\"PriceUSD\"].max()\n",
    "min_revenue = df[\"PriceUSD\"].min()\n",
    "\n",
    "print(f\" Total Revenue: ${total_revenue:,.2f}\")\n",
    "print(f\" Average Revenue per Transaction: ${average_revenue:.2f}\")\n",
    "print(f\" Median Revenue per Transaction: ${median_revenue:.2f}\")\n",
    "print(f\" Max Transaction: ${max_revenue:.2f}\")\n",
    "print(f\" Min Transaction: ${min_revenue:.2f}\")\n",
    "# Mode of revenue (PriceUSD)\n",
    "revenue_mode = df[\"PriceUSD\"].mode()[0]\n",
    "print(f\" Most frequent (mode) transaction value: ${revenue_mode:.2f}\")\n",
    "\n",
    "# Modes for categorical variables\n",
    "categorical_cols = [\"Service\", \"Gender\", \"DayOfWeek\", \"BarberName\", \"BranchLocation\"]\n",
    "\n",
    "for col in categorical_cols:\n",
    "    if col in df.columns:\n",
    "        most_common = df[col].mode()[0]\n",
    "        count = df[col].value_counts().iloc[0]\n",
    "        print(f\" {col}: most common = '{most_common}'  ({count} occurrences)\")\n"
   ]
  },
  {
   "cell_type": "code",
   "execution_count": 8,
   "id": "e59b4efd-e07a-4785-876d-9b81d86d64f6",
   "metadata": {},
   "outputs": [
    {
     "data": {
      "text/html": [
       "<div>\n",
       "<style scoped>\n",
       "    .dataframe tbody tr th:only-of-type {\n",
       "        vertical-align: middle;\n",
       "    }\n",
       "\n",
       "    .dataframe tbody tr th {\n",
       "        vertical-align: top;\n",
       "    }\n",
       "\n",
       "    .dataframe thead th {\n",
       "        text-align: right;\n",
       "    }\n",
       "</style>\n",
       "<table border=\"1\" class=\"dataframe\">\n",
       "  <thead>\n",
       "    <tr style=\"text-align: right;\">\n",
       "      <th></th>\n",
       "      <th>Most Frequent Value</th>\n",
       "    </tr>\n",
       "  </thead>\n",
       "  <tbody>\n",
       "    <tr>\n",
       "      <th>TransactionID</th>\n",
       "      <td>TRX001</td>\n",
       "    </tr>\n",
       "    <tr>\n",
       "      <th>Timestamp</th>\n",
       "      <td>2025-01-01 10:45:11</td>\n",
       "    </tr>\n",
       "    <tr>\n",
       "      <th>BranchLocation</th>\n",
       "      <td>Jakarta Pusat</td>\n",
       "    </tr>\n",
       "    <tr>\n",
       "      <th>CustomerID</th>\n",
       "      <td>CUST101</td>\n",
       "    </tr>\n",
       "    <tr>\n",
       "      <th>BarberName</th>\n",
       "      <td>Joko</td>\n",
       "    </tr>\n",
       "    <tr>\n",
       "      <th>BarberTier</th>\n",
       "      <td>Senior</td>\n",
       "    </tr>\n",
       "    <tr>\n",
       "      <th>Rating (1-5)</th>\n",
       "      <td>5.0</td>\n",
       "    </tr>\n",
       "    <tr>\n",
       "      <th>Duration (Minutes)</th>\n",
       "      <td>18.0</td>\n",
       "    </tr>\n",
       "    <tr>\n",
       "      <th>PriceUSD</th>\n",
       "      <td>2.26</td>\n",
       "    </tr>\n",
       "    <tr>\n",
       "      <th>Service</th>\n",
       "      <td>Potong Rambut Pria</td>\n",
       "    </tr>\n",
       "    <tr>\n",
       "      <th>Gender</th>\n",
       "      <td>Male</td>\n",
       "    </tr>\n",
       "    <tr>\n",
       "      <th>DayOfWeek</th>\n",
       "      <td>Friday</td>\n",
       "    </tr>\n",
       "  </tbody>\n",
       "</table>\n",
       "</div>"
      ],
      "text/plain": [
       "                    Most Frequent Value\n",
       "TransactionID                    TRX001\n",
       "Timestamp           2025-01-01 10:45:11\n",
       "BranchLocation            Jakarta Pusat\n",
       "CustomerID                      CUST101\n",
       "BarberName                         Joko\n",
       "BarberTier                       Senior\n",
       "Rating (1-5)                        5.0\n",
       "Duration (Minutes)                 18.0\n",
       "PriceUSD                           2.26\n",
       "Service              Potong Rambut Pria\n",
       "Gender                             Male\n",
       "DayOfWeek                        Friday"
      ]
     },
     "execution_count": 8,
     "metadata": {},
     "output_type": "execute_result"
    }
   ],
   "source": [
    "modes = {}\n",
    "for col in df.columns:\n",
    "    try:\n",
    "        modes[col] = df[col].mode()[0]\n",
    "    except:\n",
    "        modes[col] = None\n",
    "\n",
    "pd.DataFrame.from_dict(modes, orient=\"index\", columns=[\"Most Frequent Value\"])\n",
    "\n"
   ]
  },
  {
   "cell_type": "code",
   "execution_count": 9,
   "id": "a9d716c1-f8b5-433e-81bc-5229d036251e",
   "metadata": {},
   "outputs": [
    {
     "name": "stdout",
     "output_type": "stream",
     "text": [
      "                    Rating (1-5)  Duration (Minutes)  PriceUSD\n",
      "Rating (1-5)            1.000000            0.057241  0.066676\n",
      "Duration (Minutes)      0.057241            1.000000  0.976702\n",
      "PriceUSD                0.066676            0.976702  1.000000\n"
     ]
    },
    {
     "data": {
      "image/png": "[encoded data removed]",
      "text/plain": [
       "<Figure size 800x600 with 2 Axes>"
      ]
     },
     "metadata": {},
     "output_type": "display_data"
    }
   ],
   "source": [
    "\n",
    "corr = df.corr(numeric_only=True)\n",
    "print(corr)\n",
    "\n",
    "plt.figure(figsize=(8,6))\n",
    "sns.heatmap(corr, annot=True, cmap=\"coolwarm\", fmt=\".2f\")\n",
    "plt.title(\"Correlation Heatmap\")\n",
    "plt.show()\n"
   ]
  },
  {
   "cell_type": "code",
   "execution_count": 10,
   "id": "dae7f2e2-4a6b-42d6-8b7b-eb9aebe5f7b0",
   "metadata": {},
   "outputs": [
    {
     "name": "stdout",
     "output_type": "stream",
     "text": [
      "            AvgRevenue  AvgRating\n",
      "BarberTier                       \n",
      "Senior        5.720536   4.678571\n",
      "Junior        3.886364   4.477273\n"
     ]
    }
   ],
   "source": [
    "#barbertier and rating and revenue\n",
    "group_summary = (\n",
    "    df.groupby(\"BarberTier\")[[\"PriceUSD\", \"Rating (1-5)\"]]\n",
    "      .mean()\n",
    "      .rename(columns={\"PriceUSD\": \"AvgRevenue\", \"Rating (1-5)\": \"AvgRating\"})\n",
    "      .sort_values(\"AvgRevenue\", ascending=False)\n",
    ")\n",
    "\n",
    "print(group_summary)\n",
    "# no signifacant rating difference however seniors revnue is on average 47.1% more"
   ]
  },
  {
   "cell_type": "code",
   "execution_count": 11,
   "id": "b2804f49-d0c0-48d7-9304-b810663fd96d",
   "metadata": {},
   "outputs": [
    {
     "name": "stdout",
     "output_type": "stream",
     "text": [
      "Average Daily Revenue: 37.8\n",
      "CustomerID\n",
      "CUST186    32.26\n",
      "CUST181    32.26\n",
      "CUST145    29.68\n",
      "CUST115    28.38\n",
      "CUST166    27.10\n",
      "Name: PriceUSD, dtype: float64\n"
     ]
    },
    {
     "data": {
      "image/png": "[encoded data removed]",
      "text/plain": [
       "<Figure size 1000x400 with 1 Axes>"
      ]
     },
     "metadata": {},
     "output_type": "display_data"
    }
   ],
   "source": [
    "#Revenue per Day and per Customer (Temporal insight)\n",
    "df[\"Timestamp\"] = pd.to_datetime(df[\"Timestamp\"])\n",
    "daily_revenue = df.groupby(df[\"Timestamp\"].dt.date)[\"PriceUSD\"].sum()\n",
    "\n",
    "print(\"Average Daily Revenue:\", round(daily_revenue.mean(),2))\n",
    "daily_revenue.plot(figsize=(10,4), title=\"Daily Total Revenue\", ylabel=\"Revenue (USD)\")\n",
    "#This identifies heavy spenders (loyalty potential).\n",
    "top_customers = (\n",
    "    df.groupby(\"CustomerID\")[\"PriceUSD\"].sum()\n",
    "      .sort_values(ascending=False)\n",
    "      .head(5)\n",
    ")\n",
    "print(top_customers)\n"
   ]
  },
  {
   "cell_type": "code",
   "execution_count": 12,
   "id": "401b81cc-8af9-4b27-8bbd-aee29ffb1729",
   "metadata": {},
   "outputs": [
    {
     "name": "stdout",
     "output_type": "stream",
     "text": [
      "Service\n",
      "Cat Rambut              0.125379\n",
      "Potong Rambut Anak      0.124841\n",
      "Cukur Jenggot           0.122849\n",
      "Potong Rambut Pria      0.122742\n",
      "Paket Ganteng           0.103434\n",
      "Potong Rambut Wanita    0.099969\n",
      "Name: RevenuePerMinute, dtype: float64\n"
     ]
    }
   ],
   "source": [
    "#Revenue efficiency per minute\n",
    "if \"Duration (Minutes)\" in df.columns:\n",
    "    df[\"RevenuePerMinute\"] = df[\"PriceUSD\"] / df[\"Duration (Minutes)\"]\n",
    "    avg_rpm = df.groupby(\"Service\")[\"RevenuePerMinute\"].mean().sort_values(ascending=False)\n",
    "    print(avg_rpm)\n"
   ]
  },
  {
   "cell_type": "code",
   "execution_count": 13,
   "id": "062b8e6e-024c-427d-aa75-e444c40f4bab",
   "metadata": {},
   "outputs": [
    {
     "data": {
      "image/png": "[encoded data removed]",
      "text/plain": [
       "<Figure size 640x480 with 1 Axes>"
      ]
     },
     "metadata": {},
     "output_type": "display_data"
    }
   ],
   "source": [
    "#Check for outliers\n",
    "sns.boxplot(x=df[\"PriceUSD\"])\n",
    "plt.title(\"Revenue Outlier Check\")\n",
    "plt.show()\n"
   ]
  },
  {
   "cell_type": "code",
   "execution_count": null,
   "id": "207c4fc1-882f-4030-9bd5-68160d4bc165",
   "metadata": {},
   "outputs": [],
   "source": []
  }
 ],
 "metadata": {
  "kernelspec": {
   "display_name": "Python 3 (ipykernel)",
   "language": "python",
   "name": "python3"
  },
  "language_info": {
   "codemirror_mode": {
    "name": "ipython",
    "version": 3
   },
   "file_extension": ".py",
   "mimetype": "text/x-python",
   "name": "python",
   "nbconvert_exporter": "python",
   "pygments_lexer": "ipython3",
   "version": "3.11.14"
  }
 },
 "nbformat": 4,
 "nbformat_minor": 5
}
